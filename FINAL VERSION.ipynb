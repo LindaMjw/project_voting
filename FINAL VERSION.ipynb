{
  "nbformat": 4,
  "nbformat_minor": 0,
  "metadata": {
    "colab": {
      "provenance": [],
      "include_colab_link": true
    },
    "kernelspec": {
      "name": "python3",
      "display_name": "Python 3"
    },
    "language_info": {
      "name": "python"
    }
  },
  "cells": [
    {
      "cell_type": "markdown",
      "metadata": {
        "id": "view-in-github",
        "colab_type": "text"
      },
      "source": [
        "<a href=\"https://colab.research.google.com/github/LindaMjw/project_voting/blob/main/FINAL%20VERSION.ipynb\" target=\"_parent\"><img src=\"https://colab.research.google.com/assets/colab-badge.svg\" alt=\"Open In Colab\"/></a>"
      ]
    },
    {
      "cell_type": "markdown",
      "source": [
        "## Set up"
      ],
      "metadata": {
        "id": "pJV8kX4Hm4tT"
      }
    },
    {
      "cell_type": "code",
      "source": [
        "! git clone -q https://github.com/LindaMjw/project_voting"
      ],
      "metadata": {
        "id": "_txpXSLfaGSS",
        "colab": {
          "base_uri": "https://localhost:8080/"
        },
        "outputId": "3bbf19a2-c3bc-4535-c2e5-46621ff13c62"
      },
      "execution_count": null,
      "outputs": [
        {
          "output_type": "stream",
          "name": "stdout",
          "text": [
            "fatal: destination path 'project_voting' already exists and is not an empty directory.\n"
          ]
        }
      ]
    },
    {
      "cell_type": "code",
      "execution_count": null,
      "metadata": {
        "id": "hFjge2VEZwKp"
      },
      "outputs": [],
      "source": [
        "import pandas as pd\n",
        "import matplotlib\n",
        "import matplotlib.pyplot as plt\n",
        "import numpy as np\n",
        "import seaborn as sns\n",
        "\n",
        "vdf = pd.read_csv('/content/project_voting/data/voting_VA.csv') # Load historical voting data"
      ]
    },
    {
      "cell_type": "markdown",
      "source": [
        "## Summary"
      ],
      "metadata": {
        "id": "b97yG3fomTkj"
      }
    },
    {
      "cell_type": "markdown",
      "source": [
        "The purpose of this project is to build models to predict the outcome of the 2024 presidential election in Virginia and provide quantitative information about the precision of the prediction. The project leverages voting data from 2000 to 2020 from various sources including the IPUMS NHGIS dataset and data from the Virginia Geographic Information Network.\n",
        "\n",
        "Our methodologies involve training machine learning models, linear regression, and decision trees to predict the likelihood of which party will win the majority for each county. In our project, we assess the effects of gerrymandering and how that can influence the overall result of the elections. Through our various visualizations, we uncover the relationship between certain demographics and voting patterns.\n",
        "\n",
        "Our findings indicate that certain demographic features such as race, income, and population density are significant predictors of party preference. Additionally, other factors like proximity to urban centers affect voting behavior. The predictive models developed in this project provide valuable insight to the 2024 election results, and the analysis of the effect of gerrymandering reveals how the voting outcomes may be subjected to change.\n"
      ],
      "metadata": {
        "id": "qppX60q1iAGu"
      }
    },
    {
      "cell_type": "markdown",
      "source": [
        "## DATA"
      ],
      "metadata": {
        "id": "Lip4ptfPRae1"
      }
    },
    {
      "cell_type": "markdown",
      "source": [
        "This project uses voting data which includes historical data from Virginia elections from 2000 to 2020. Key variables used are year, indicating the year of the elections, county_name, indicating the name of the county, party, indicating the party affiliation, and totalvotes, indicating the number of votes received by a particular party in a county. No missing data points were found in this dataset. The dataset provides valuable insight to the historical voting patterns in Virgina.\n",
        "\n",
        "The next dataset uses the NHGIS county data, which provides county level demographic information for every county in the United States. Some key variables include COUNTY, indicating the name of the country, QU1E001, indicating the median household incoming in the past year, QSQE002, indicating the white population, and QSQE003, indicating the black or African American population. Some more challenges with cleaning the data were naming conventions. There were some discrepancies in county names between datasets that needed to be changed before merging the set together. Next, the data was successfully merged combining geographic, demographic,and historical voting patterns through data wrangling.\n",
        "\n",
        "Our findings indicate that certain demographic features such as race, income, and population density are significant predictors of party preference. Additionally, other factors like proximity to urban centers affect voting behavior. The predictive models developed in this project provide valuable insight to the 2024 election results, and the analysis of the effect of gerrymandering reveals how the voting outcomes may be subjected to change.\n",
        "\n"
      ],
      "metadata": {
        "id": "orU4F8-fh5Pu"
      }
    },
    {
      "cell_type": "code",
      "source": [
        "print(vdf.head())"
      ],
      "metadata": {
        "id": "1d5osZUg6w4r",
        "outputId": "31c276d9-6ce9-48d5-8cc6-28d005fdc134",
        "colab": {
          "base_uri": "https://localhost:8080/"
        }
      },
      "execution_count": null,
      "outputs": [
        {
          "output_type": "stream",
          "name": "stdout",
          "text": [
            "   Unnamed: 0  year     state state_po county_name  county_fips        office  \\\n",
            "0       11161  2000  VIRGINIA       VA    ACCOMACK        51001  US PRESIDENT   \n",
            "1       11162  2000  VIRGINIA       VA    ACCOMACK        51001  US PRESIDENT   \n",
            "2       11163  2000  VIRGINIA       VA    ACCOMACK        51001  US PRESIDENT   \n",
            "3       11164  2000  VIRGINIA       VA    ACCOMACK        51001  US PRESIDENT   \n",
            "4       11165  2000  VIRGINIA       VA   ALBEMARLE        51003  US PRESIDENT   \n",
            "\n",
            "        candidate       party  candidatevotes  totalvotes   version   mode  \n",
            "0         AL GORE    DEMOCRAT            5092       11925  20220315  TOTAL  \n",
            "1  GEORGE W. BUSH  REPUBLICAN            6352       11925  20220315  TOTAL  \n",
            "2     RALPH NADER       GREEN             220       11925  20220315  TOTAL  \n",
            "3           OTHER       OTHER             261       11925  20220315  TOTAL  \n",
            "4         AL GORE    DEMOCRAT           16255       36846  20220315  TOTAL  \n"
          ]
        }
      ]
    },
    {
      "cell_type": "code",
      "source": [
        "print(vdf.describe())"
      ],
      "metadata": {
        "id": "vtV6YzmH5SHP",
        "outputId": "d3f0d72e-be7b-4fee-a3c9-7bb2cdb2815d",
        "colab": {
          "base_uri": "https://localhost:8080/"
        }
      },
      "execution_count": null,
      "outputs": [
        {
          "output_type": "stream",
          "name": "stdout",
          "text": [
            "         Unnamed: 0         year   county_fips  candidatevotes     totalvotes  \\\n",
            "count   3736.000000  3736.000000   3736.000000     3736.000000    3736.000000   \n",
            "mean   47061.027837  2012.826552  51264.579229     5878.282120   29116.353587   \n",
            "std    23219.785408     7.589036    270.546458    18452.435802   58562.057257   \n",
            "min    11161.000000  2000.000000  51001.000000        0.000000       0.000000   \n",
            "25%    21235.750000  2004.000000  51069.000000       59.000000    6741.500000   \n",
            "50%    49016.500000  2016.000000  51139.000000      899.000000   11629.000000   \n",
            "75%    71036.250000  2020.000000  51550.000000     4548.250000   24520.750000   \n",
            "max    71970.000000  2020.000000  51840.000000   355133.000000  601243.000000   \n",
            "\n",
            "          version  \n",
            "count      3736.0  \n",
            "mean   20220315.0  \n",
            "std           0.0  \n",
            "min    20220315.0  \n",
            "25%    20220315.0  \n",
            "50%    20220315.0  \n",
            "75%    20220315.0  \n",
            "max    20220315.0  \n"
          ]
        }
      ]
    },
    {
      "cell_type": "markdown",
      "source": [
        "> There is no missing values in virginia voting data, nor missing values in the other two map data."
      ],
      "metadata": {
        "id": "vGN5i6wO6d0P"
      }
    },
    {
      "cell_type": "code",
      "source": [
        "print(vdf['mode'].unique())"
      ],
      "metadata": {
        "colab": {
          "base_uri": "https://localhost:8080/"
        },
        "id": "x_GiSj3sraFB",
        "outputId": "035fd714-dc40-44ef-9aa1-a48cafc30622"
      },
      "execution_count": null,
      "outputs": [
        {
          "output_type": "stream",
          "name": "stdout",
          "text": [
            "['TOTAL' 'ABSENTEE' 'ELECTION DAY' 'PROVISIONAL']\n"
          ]
        }
      ]
    },
    {
      "cell_type": "code",
      "source": [
        "# group the county that vote in different mode that is not in total (in the other word, add candidate votes in mode 'ABSENTEE' 'ELECTION DAY' 'PROVISIONAL')\n",
        "vdf = vdf.groupby(['year', 'party','county_name','totalvotes'])['candidatevotes'].sum().reset_index()\n",
        "# make a copy of vdf, so that the operation on vdf1 won't influence the original dataset\n",
        "vdf1 = vdf.copy()\n",
        "# group by year and party to get sum of candidates vote and total votes.\n",
        "vdf1 = vdf1.groupby(['year', 'party'])[['candidatevotes', 'totalvotes']].sum().reset_index()\n",
        "# calculate the percentage votes\n",
        "vdf1['percentage_votes'] = vdf1['candidatevotes'] / vdf1['totalvotes']\n",
        "\n",
        "\n",
        "print(vdf1.head())"
      ],
      "metadata": {
        "id": "DUeOpWbF6nk1",
        "outputId": "242d87d1-06a5-4efd-d534-cfeaaec9422e",
        "colab": {
          "base_uri": "https://localhost:8080/"
        }
      },
      "execution_count": null,
      "outputs": [
        {
          "output_type": "stream",
          "name": "stdout",
          "text": [
            "   year       party  candidatevotes  totalvotes  percentage_votes\n",
            "0  2000    DEMOCRAT         1216422     2737915          0.444288\n",
            "1  2000       GREEN           59373     2737915          0.021685\n",
            "2  2000       OTHER           25243     2737915          0.009220\n",
            "3  2000  REPUBLICAN         1436877     2737915          0.524807\n",
            "4  2004    DEMOCRAT         1454742     3198367          0.454839\n"
          ]
        }
      ]
    },
    {
      "cell_type": "markdown",
      "source": [
        "> By oberseving the numeric percentage votes value, we can predict that Libertrian and Green party won't appear on density plot since they only occur on 2000 and 2020 respectively."
      ],
      "metadata": {
        "id": "FwDRhhYjQDpC"
      }
    },
    {
      "cell_type": "code",
      "source": [
        "# Set the style of the plot\n",
        "sns.set_style(\"whitegrid\")\n",
        "# Create a kernel density plot for each party\n",
        "plt.figure(figsize=(12, 6))\n",
        "sns.kdeplot(data=vdf1, x='percentage_votes', hue='party', fill=True, warn_singular=False)\n",
        "plt.title('Distribution of Percentage Votes by Party')\n",
        "plt.show()"
      ],
      "metadata": {
        "id": "1SmCfLVACHCT",
        "outputId": "48040ae7-5df5-47ca-c951-806668f24b02",
        "colab": {
          "base_uri": "https://localhost:8080/",
          "height": 564
        }
      },
      "execution_count": null,
      "outputs": [
        {
          "output_type": "display_data",
          "data": {
            "text/plain": [
              "<Figure size 1200x600 with 1 Axes>"
            ],
            "image/png": "[encoded data removed]"
          },
          "metadata": {}
        }
      ]
    },
    {
      "cell_type": "markdown",
      "source": [
        "> This data provides insight into the distribution and variation of 'percentage_votes' for each 'party' over time. The Green Party's percentage of votes is relatively low compared to the other two parties and remains consistent over time. The percentage of votes for the Democratic Party is  close to that of the Republican Party. But the higher density of Democratic votes around 0.55 suggests that the Democratic Party has won more times in Virginia in the past six elections. THe Republican's percentage vote has a hgiher density at 0.45. By checking the real election results, we can see that the Republican Party won in 2000 and 2004, while the Democratic Party emerged victorious in the remaining four elections."
      ],
      "metadata": {
        "id": "YawYX0u1SxpW"
      }
    },
    {
      "cell_type": "markdown",
      "source": [
        "## Analysis"
      ],
      "metadata": {
        "id": "WpsDya0_Rg23"
      }
    },
    {
      "cell_type": "markdown",
      "source": [
        "\n",
        "\n",
        "The exploratory data analysis was crucial to uncovering key patterns and relationships in the data. The density plot displayed distinct voting trends for different parties over time. It showed that the Democratic Party had higher density around 0.55, while the Republican Party had higher density around 0.45. This suggests that the Democratic Party has won more times than the Republican party in Virginia.\n",
        "We developed and evaluated two predictive models to predict the winning party for each county in the 2024 elections. The first decision tree, Democratic support, used training data from years 2012 to 2016, and testing data was from 2020. The model achieved an R-squared value of 0.945. The graph shows the percentage of white and black/African American population and median house income likely to vote Democratic. The model predicts a cumulative Democratic support of approximately 31.9% across Virginia counties.\n",
        "\n",
        "The second decision tree, Republican support, used training data from years 2012 to 2016, and testing data was from 2020. The model achieved an R-squared value of 0.925. The graph shows the percentage of white and black/African American population and median house income likely to vote Republican. The model predicts a cumulative Republican support of approximately 34.3% across Virginia counties.\n",
        "\n",
        "However, this may be subject to change when it comes to the effects of gerrymandering. Altering district boundaries can lead to significant changes to predicted outcomes, potentially flipping counties. Demographic and geographic features are significant predictors of party preferences. The models hold high confidence in predicting party preferences trends, but may be subject to change with any potential demographic shifts.\n",
        "\n"
      ],
      "metadata": {
        "id": "Pf18uCjNiYWJ"
      }
    },
    {
      "cell_type": "markdown",
      "source": [
        "### Process and merge the nhgis_county_data of 2012, 2016 and 2020"
      ],
      "metadata": {
        "id": "-M6BBJGyRBSg"
      }
    },
    {
      "cell_type": "markdown",
      "source": [
        "Select variables:\n",
        "1. year (the last year of the 5 year period)\n",
        "2. County\n",
        "3. Median Household Income in the Past 12 Months(in coorespond Inflation-Adjusted Dollars)\n",
        "4. Race: White alone\n",
        "5. Race: Black or African American alone"
      ],
      "metadata": {
        "id": "7L77GsPYRVSw"
      }
    },
    {
      "cell_type": "code",
      "source": [
        "county_12 = pd.read_csv('/content/project_voting/data/county_data/0002_ds191_20125_county_E.csv')\n",
        "print(county_12.head())"
      ],
      "metadata": {
        "id": "LDcuCNDOO8q_",
        "outputId": "3e7f1b88-47a6-40c9-e3a3-2f1b14f8155b",
        "colab": {
          "base_uri": "https://localhost:8080/"
        }
      },
      "execution_count": null,
      "outputs": [
        {
          "output_type": "stream",
          "name": "stdout",
          "text": [
            "   Unnamed: 0              GISJOIN            YEAR                     STUSAB  \\\n",
            "0           1  GIS Join Match Code  Data File Year  State Postal Abbreviation   \n",
            "1           2             G0100010       2008-2012                         AL   \n",
            "2           3             G0100030       2008-2012                         AL   \n",
            "3           4             G0100050       2008-2012                         AL   \n",
            "4           5             G0100070       2008-2012                         AL   \n",
            "\n",
            "       REGIONA      DIVISIONA       STATE      STATEA          COUNTY  \\\n",
            "0  Region Code  Division Code  State Name  State Code     County Name   \n",
            "1          NaN            NaN     Alabama          01  Autauga County   \n",
            "2          NaN            NaN     Alabama          01  Baldwin County   \n",
            "3          NaN            NaN     Alabama          01  Barbour County   \n",
            "4          NaN            NaN     Alabama          01     Bibb County   \n",
            "\n",
            "       COUNTYA  ...             QXSE007 QX6E001 QX7E001   QX7E002 QX7E003  \\\n",
            "0  County Code  ...  Not in labor force   Total   Total  Occupied  Vacant   \n",
            "1          001  ...               14693   22077   22077     19934    2143   \n",
            "2          003  ...               57160  103984  103984     72751   31233   \n",
            "3          005  ...               11539   11878   11878      9423    2455   \n",
            "4          007  ...                8516    8958    8958      7386    1572   \n",
            "\n",
            "  QX8E001         QX8E002          QX8E003            QZTE001  \\\n",
            "0   Total  Owner occupied  Renter occupied  Median gross rent   \n",
            "1   19934           15488             4446                836   \n",
            "2   72751           53889            18862                874   \n",
            "3    9423            6285             3138                577   \n",
            "4    7386            5979             1407                581   \n",
            "\n",
            "                  QZ6E001  \n",
            "0  Median value (dollars)  \n",
            "1                  137900  \n",
            "2                  172900  \n",
            "3                   88700  \n",
            "4                   91600  \n",
            "\n",
            "[5 rows x 191 columns]\n"
          ]
        }
      ]
    },
    {
      "cell_type": "code",
      "source": [
        "# select county, [QU1E001]Median Household Income in the Past 12 Months(in 2012 Inflation-Adjusted Dollars)\n",
        "# Race: [QSQE002] White alone, [QSQE003] Black or African American alone\n",
        "selected_columns = [\"COUNTY\"] + [col for col in county_12.columns if col in [\"QU1E001\", \"QSQE002\", \"QSQE003\"]]\n",
        "# Select the columns from the DataFrame\n",
        "county12_sel = county_12[county_12['STATE'] == 'Virginia']\n",
        "county12_sel = county12_sel[selected_columns]\n",
        "county12_sel.insert(0, 'year', 2012)\n",
        "print(county12_sel.head())"
      ],
      "metadata": {
        "id": "zvfkLzKkUddX",
        "colab": {
          "base_uri": "https://localhost:8080/"
        },
        "outputId": "8177c608-8c3f-4a35-ed44-bdc34aa358bf"
      },
      "execution_count": null,
      "outputs": [
        {
          "output_type": "stream",
          "name": "stdout",
          "text": [
            "      year            COUNTY QSQE002 QSQE003 QU1E001\n",
            "2821  2012   Accomack County   22586    9620   40780\n",
            "2822  2012  Albemarle County   81403    9751   67797\n",
            "2823  2012  Alleghany County   15210     801   46133\n",
            "2824  2012     Amelia County    9219    3052   50596\n",
            "2825  2012    Amherst County   24630    6083   45020\n"
          ]
        }
      ]
    },
    {
      "cell_type": "code",
      "source": [
        "# Rename the remaining columns\n",
        "county12_sel.rename(columns={'QSQE002': 'white', 'QSQE003': 'black/AA', 'QU1E001': 'Median Household Income'}, inplace=True)\n",
        "# Print the DataFrame to verify changes\n",
        "print(county12_sel.head())"
      ],
      "metadata": {
        "colab": {
          "base_uri": "https://localhost:8080/"
        },
        "id": "S4oOY6-4J_QY",
        "outputId": "e7405cbf-eb6d-4aa5-9bf7-011a2d2539f3"
      },
      "execution_count": null,
      "outputs": [
        {
          "output_type": "stream",
          "name": "stdout",
          "text": [
            "      year            COUNTY  white black/AA Median Household Income\n",
            "2821  2012   Accomack County  22586     9620                   40780\n",
            "2822  2012  Albemarle County  81403     9751                   67797\n",
            "2823  2012  Alleghany County  15210      801                   46133\n",
            "2824  2012     Amelia County   9219     3052                   50596\n",
            "2825  2012    Amherst County  24630     6083                   45020\n"
          ]
        }
      ]
    },
    {
      "cell_type": "code",
      "source": [
        "%%capture\n",
        "county_16 = pd.read_csv('/content/project_voting/data/county_data/0002_ds225_20165_county_E.csv')\n",
        "county_20 = pd.read_csv('/content/project_voting/data/county_data/0002_ds249_20205_county_E.csv')"
      ],
      "metadata": {
        "id": "CxlcSnI7Ebgg"
      },
      "execution_count": null,
      "outputs": []
    },
    {
      "cell_type": "code",
      "source": [
        "selected_columns = [\"COUNTY\"] + [col for col in county_16.columns if col in [\"AF49E001\", \"AF2ME002\", \"AF2ME003\"]]\n",
        "county16_sel = county_16[county_16['STATE'] == 'Virginia']\n",
        "county16_sel = county16_sel[selected_columns]\n",
        "county16_sel.rename(columns={'AF2ME002': 'white', 'AF2ME003': 'black/AA', 'AF49E001': 'Median Household Income'}, inplace=True)\n",
        "county16_sel.insert(0, 'year', 2016)\n",
        "print(county16_sel)"
      ],
      "metadata": {
        "colab": {
          "base_uri": "https://localhost:8080/"
        },
        "id": "w0PTq2ugGyyB",
        "outputId": "97f0b97a-4305-4a3f-a656-426248cb5fe0"
      },
      "execution_count": null,
      "outputs": [
        {
          "output_type": "stream",
          "name": "stdout",
          "text": [
            "      year               COUNTY   white black/AA Median Household Income\n",
            "2821  2016      Accomack County   22369     9573                   38503\n",
            "2822  2016     Albemarle County   84955     9747                   70342\n",
            "2823  2016     Alleghany County   14745      829                   45538\n",
            "2824  2016        Amelia County    9389     3010                   58269\n",
            "2825  2016       Amherst County   24609     5717                   47002\n",
            "...    ...                  ...     ...      ...                     ...\n",
            "2949  2016         Suffolk city   45514    36522                   65435\n",
            "2950  2016  Virginia Beach city  304213    85906                   67719\n",
            "2951  2016      Waynesboro city   17478     2702                   45097\n",
            "2952  2016    Williamsburg city   11207     2223                   50091\n",
            "2953  2016      Winchester city   22131     2642                   46466\n",
            "\n",
            "[133 rows x 5 columns]\n"
          ]
        }
      ]
    },
    {
      "cell_type": "code",
      "source": [
        "selected_columns = [\"COUNTY\"] + [col for col in county_20.columns if col in [\"AMR8E001\", \"AMPWE002\", \"AMPWE003\"]]\n",
        "county20_sel = county_20[county_20['STATE'] == 'Virginia']\n",
        "county20_sel = county20_sel[selected_columns]\n",
        "county20_sel.rename(columns={'AMPWE002': 'white', 'AMPWE003': 'black/AA', 'AMR8E001': 'Median Household Income'}, inplace=True)\n",
        "county20_sel.insert(0, 'year', 2020)\n",
        "print(county20_sel)"
      ],
      "metadata": {
        "colab": {
          "base_uri": "https://localhost:8080/"
        },
        "id": "RVx0q-ybHEVy",
        "outputId": "c32b9273-cb67-4920-a410-e1c3f7e7d603"
      },
      "execution_count": null,
      "outputs": [
        {
          "output_type": "stream",
          "name": "stdout",
          "text": [
            "      year               COUNTY   white black/AA Median Household Income\n",
            "2822  2020      Accomack County   21773     9390                 46178.0\n",
            "2823  2020     Albemarle County   87871    10005                 84643.0\n",
            "2824  2020     Alleghany County   13925      790                 48513.0\n",
            "2825  2020        Amelia County    9789     2876                 63918.0\n",
            "2826  2020       Amherst County   24330     5758                 57368.0\n",
            "...    ...                  ...     ...      ...                     ...\n",
            "2950  2020         Suffolk city   46250    37869                 79899.0\n",
            "2951  2020  Virginia Beach city  293359    84851                 78136.0\n",
            "2952  2020      Waynesboro city   17890     2797                 43480.0\n",
            "2953  2020    Williamsburg city   10773     2285                 59288.0\n",
            "2954  2020      Winchester city   21617     2794                 61102.0\n",
            "\n",
            "[133 rows x 5 columns]\n"
          ]
        }
      ]
    },
    {
      "cell_type": "code",
      "source": [
        "merged_data = pd.concat([county12_sel, county16_sel, county20_sel], ignore_index=True)"
      ],
      "metadata": {
        "id": "TX-Ao8YlR09t"
      },
      "execution_count": null,
      "outputs": []
    },
    {
      "cell_type": "code",
      "source": [
        "merged_data['COUNTY'] = merged_data['COUNTY'].str.upper()\n",
        "merged_data['COUNTY'] = merged_data['COUNTY'].apply(lambda x: x[:-12] if x.endswith(' CITY COUNTY') else (x[:-7] if x.endswith(' COUNTY') else (x[:-5] if x.endswith(' CITY') else x)))\n",
        "print(merged_data)"
      ],
      "metadata": {
        "colab": {
          "base_uri": "https://localhost:8080/"
        },
        "id": "OcoPhM1-7jqI",
        "outputId": "4eaa6a91-ac4c-49a8-f117-26ca84a48937"
      },
      "execution_count": null,
      "outputs": [
        {
          "output_type": "stream",
          "name": "stdout",
          "text": [
            "     year          COUNTY   white black/AA Median Household Income\n",
            "0    2012        ACCOMACK   22586     9620                   40780\n",
            "1    2012       ALBEMARLE   81403     9751                   67797\n",
            "2    2012       ALLEGHANY   15210      801                   46133\n",
            "3    2012          AMELIA    9219     3052                   50596\n",
            "4    2012         AMHERST   24630     6083                   45020\n",
            "..    ...             ...     ...      ...                     ...\n",
            "395  2020         SUFFOLK   46250    37869                 79899.0\n",
            "396  2020  VIRGINIA BEACH  293359    84851                 78136.0\n",
            "397  2020      WAYNESBORO   17890     2797                 43480.0\n",
            "398  2020    WILLIAMSBURG   10773     2285                 59288.0\n",
            "399  2020      WINCHESTER   21617     2794                 61102.0\n",
            "\n",
            "[400 rows x 5 columns]\n"
          ]
        }
      ]
    },
    {
      "cell_type": "markdown",
      "source": [
        "### Process vdf data"
      ],
      "metadata": {
        "id": "N6mnSBjjXkHm"
      }
    },
    {
      "cell_type": "markdown",
      "source": [
        "Prepare for the prediciton model: calculate the percentage of vote in state size. So the percentage vote here will be the votes of (the single party in that single county)/(total votes in VA) for that year."
      ],
      "metadata": {
        "id": "n4gV9W-Oo7-V"
      }
    },
    {
      "cell_type": "code",
      "source": [
        "vdf['COUNTY'] = vdf['county_name'].apply(lambda x: x[:-5] if x.endswith(' CITY') else x)"
      ],
      "metadata": {
        "id": "4TL5MlK4Xr8N"
      },
      "execution_count": null,
      "outputs": []
    },
    {
      "cell_type": "code",
      "source": [
        "duplicate_keys = vdf.duplicated(subset=['year', 'county_name','party'], keep=False)\n",
        "print(\"Duplicate keys in dem:\")\n",
        "print(vdf[duplicate_keys])\n",
        "# after read into the data wp and google, we fould out the following COUNTY has both COUNTY and city (ex. FAIRFAX county and FAIRFAX city)\n",
        "# it will be mroe complicated if we go back and fix the extire data for this 8 county, so we plan to excluded them."
      ],
      "metadata": {
        "colab": {
          "base_uri": "https://localhost:8080/"
        },
        "id": "prOvrQcIGfrO",
        "outputId": "5b9f6fd2-afbb-47b7-d70e-751c39d21728"
      },
      "execution_count": null,
      "outputs": [
        {
          "output_type": "stream",
          "name": "stdout",
          "text": [
            "Duplicate keys in dem:\n",
            "      year       party county_name  totalvotes  candidatevotes    COUNTY\n",
            "10    2000    DEMOCRAT     BEDFORD        2441            1078   BEDFORD\n",
            "11    2000    DEMOCRAT     BEDFORD       26149            8160   BEDFORD\n",
            "38    2000    DEMOCRAT     FAIRFAX        9556            4361   FAIRFAX\n",
            "39    2000    DEMOCRAT     FAIRFAX      413775          196501   FAIRFAX\n",
            "44    2000    DEMOCRAT    FRANKLIN        3191            1763  FRANKLIN\n",
            "...    ...         ...         ...         ...             ...       ...\n",
            "2055  2016  REPUBLICAN    FRANKLIN       26971           18569  FRANKLIN\n",
            "2115  2016  REPUBLICAN    RICHMOND        3661            2213  RICHMOND\n",
            "2116  2016  REPUBLICAN    RICHMOND      103484           15581  RICHMOND\n",
            "2117  2016  REPUBLICAN     ROANOKE       39466           14789   ROANOKE\n",
            "2118  2016  REPUBLICAN     ROANOKE       51489           31408   ROANOKE\n",
            "\n",
            "[160 rows x 6 columns]\n"
          ]
        }
      ]
    },
    {
      "cell_type": "code",
      "source": [
        "# List of county names to exclude\n",
        "exclude_counties = [\"FAIRFAX\", \"FRANKLIN\", \"RICHMOND\", \"ROANOKE\",\"BEDFORD\"]\n",
        "\n",
        "# Filter out rows where the county column is not in the exclude_counties list\n",
        "vdf = vdf[~vdf['COUNTY'].isin(exclude_counties)]"
      ],
      "metadata": {
        "id": "GhD1O3-3KX_o"
      },
      "execution_count": null,
      "outputs": []
    },
    {
      "cell_type": "code",
      "source": [
        "%%capture\n",
        "# Calculate sum of candidatevotes for each year\n",
        "total_votes_per_year = vdf.groupby('year')['candidatevotes'].sum()\n",
        "\n",
        "# Create a dictionary mapping each year to its candidatevotes\n",
        "year_totalvotes_map = total_votes_per_year.to_dict()\n",
        "\n",
        "# Replace the totalvotes column with the sum of total candidatevotes for each year\n",
        "vdf['totalvotes'] = vdf['year'].map(year_totalvotes_map)"
      ],
      "metadata": {
        "id": "FlqxBNEfS_bb"
      },
      "execution_count": null,
      "outputs": []
    },
    {
      "cell_type": "code",
      "source": [
        "# The percentage votes will be the votes of (the single party in that single county)/(total votes in VA)\n",
        "vdf = vdf.groupby(['year', 'party','county_name','totalvotes'])['candidatevotes'].sum().reset_index()\n",
        "vdf['percentage_votes'] = vdf['candidatevotes'] / vdf['totalvotes']\n",
        "print(vdf)"
      ],
      "metadata": {
        "id": "-ug5dU55N5Sl",
        "colab": {
          "base_uri": "https://localhost:8080/"
        },
        "outputId": "ce66434e-8dfd-4002-de71-2112adaeb05c"
      },
      "execution_count": null,
      "outputs": [
        {
          "output_type": "stream",
          "name": "stdout",
          "text": [
            "      year       party        county_name  totalvotes  candidatevotes  \\\n",
            "0     2000    DEMOCRAT           ACCOMACK     2118840            5092   \n",
            "1     2000    DEMOCRAT          ALBEMARLE     2118840           16255   \n",
            "2     2000    DEMOCRAT         ALEXANDRIA     2118840           33633   \n",
            "3     2000    DEMOCRAT          ALLEGHANY     2118840            2214   \n",
            "4     2000    DEMOCRAT             AMELIA     2118840            1754   \n",
            "...    ...         ...                ...         ...             ...   \n",
            "2475  2020  REPUBLICAN  WILLIAMSBURG CITY     3549601            1963   \n",
            "2476  2020  REPUBLICAN    WINCHESTER CITY     3549601            5221   \n",
            "2477  2020  REPUBLICAN               WISE     3549601           13366   \n",
            "2478  2020  REPUBLICAN              WYTHE     3549601           11733   \n",
            "2479  2020  REPUBLICAN               YORK     3549601           20241   \n",
            "\n",
            "      percentage_votes  \n",
            "0             0.002403  \n",
            "1             0.007672  \n",
            "2             0.015873  \n",
            "3             0.001045  \n",
            "4             0.000828  \n",
            "...                ...  \n",
            "2475          0.000553  \n",
            "2476          0.001471  \n",
            "2477          0.003765  \n",
            "2478          0.003305  \n",
            "2479          0.005702  \n",
            "\n",
            "[2480 rows x 6 columns]\n"
          ]
        }
      ]
    },
    {
      "cell_type": "markdown",
      "source": [
        "### Clean and merge data for decision tree model"
      ],
      "metadata": {
        "id": "v9bomLEWR1kx"
      }
    },
    {
      "cell_type": "code",
      "source": [
        "dem = vdf[vdf['party'] == 'DEMOCRAT'].copy()\n",
        "dem.rename(columns={'county_name': 'COUNTY', 'percentage_votes': 'dem_perc'}, inplace=True)\n",
        "dem = dem.iloc[:, [0, 2, 5]]  # only keep columns county, year, and percentage vote\n",
        "print(dem)"
      ],
      "metadata": {
        "colab": {
          "base_uri": "https://localhost:8080/"
        },
        "id": "dokHA_dmJOds",
        "outputId": "49ee45f9-86f2-4bcf-9281-3933fd32edde"
      },
      "execution_count": null,
      "outputs": [
        {
          "output_type": "stream",
          "name": "stdout",
          "text": [
            "      year             COUNTY  dem_perc\n",
            "0     2000           ACCOMACK  0.002403\n",
            "1     2000          ALBEMARLE  0.007672\n",
            "2     2000         ALEXANDRIA  0.015873\n",
            "3     2000          ALLEGHANY  0.001045\n",
            "4     2000             AMELIA  0.000828\n",
            "...    ...                ...       ...\n",
            "2103  2020  WILLIAMSBURG CITY  0.001349\n",
            "2104  2020    WINCHESTER CITY  0.001862\n",
            "2105  2020               WISE  0.000876\n",
            "2106  2020              WYTHE  0.000885\n",
            "2107  2020               YORK  0.004982\n",
            "\n",
            "[744 rows x 3 columns]\n"
          ]
        }
      ]
    },
    {
      "cell_type": "code",
      "source": [
        "rep = vdf[vdf['party'] == 'REPUBLICAN'].copy()\n",
        "rep.rename(columns={'county_name': 'COUNTY', 'percentage_votes': 'rep_perc'}, inplace=True)\n",
        "rep = rep.iloc[:, [0, 2, 5]]  # only keep columns county, year, and percentage vote\n",
        "print(rep)"
      ],
      "metadata": {
        "colab": {
          "base_uri": "https://localhost:8080/"
        },
        "id": "NjLtLF77ZTfe",
        "outputId": "e3b39cab-8dec-4e25-fc5b-7a7830cfc848"
      },
      "execution_count": null,
      "outputs": [
        {
          "output_type": "stream",
          "name": "stdout",
          "text": [
            "      year             COUNTY  rep_perc\n",
            "372   2000           ACCOMACK  0.002998\n",
            "373   2000          ALBEMARLE  0.008633\n",
            "374   2000         ALEXANDRIA  0.008987\n",
            "375   2000          ALLEGHANY  0.001325\n",
            "376   2000             AMELIA  0.001391\n",
            "...    ...                ...       ...\n",
            "2475  2020  WILLIAMSBURG CITY  0.000553\n",
            "2476  2020    WINCHESTER CITY  0.001471\n",
            "2477  2020               WISE  0.003765\n",
            "2478  2020              WYTHE  0.003305\n",
            "2479  2020               YORK  0.005702\n",
            "\n",
            "[744 rows x 3 columns]\n"
          ]
        }
      ]
    },
    {
      "cell_type": "code",
      "source": [
        "final_df = pd.merge(merged_data, dem, on=['year', 'COUNTY'], how='left')\n",
        "final_df = pd.merge(final_df, rep, on=['year', 'COUNTY'], how='left')"
      ],
      "metadata": {
        "id": "i4gZL_ZE5vSH"
      },
      "execution_count": null,
      "outputs": []
    },
    {
      "cell_type": "code",
      "source": [
        "# there is case that county are included in nghis files but not in cleaned vdf gile\n",
        "final_df.dropna(inplace=True)"
      ],
      "metadata": {
        "id": "Kybcfkg0aN5k"
      },
      "execution_count": null,
      "outputs": []
    },
    {
      "cell_type": "markdown",
      "source": [
        "## Prediction Model (DECISION TREE)"
      ],
      "metadata": {
        "id": "9ko28tmPR8Af"
      }
    },
    {
      "cell_type": "markdown",
      "source": [
        "### Democrat MODEL"
      ],
      "metadata": {
        "id": "n_LpPChRbe82"
      }
    },
    {
      "cell_type": "code",
      "source": [
        "from sklearn.tree import DecisionTreeRegressor, plot_tree\n",
        "from sklearn.metrics import accuracy_score\n",
        "import matplotlib.pyplot as plt\n",
        "\n",
        "# Training data for years 2012 and 2016\n",
        "X_train = final_df[(final_df['year'] == 2012)].drop(['dem_perc','rep_perc', 'year', 'COUNTY'], axis=1)\n",
        "y_train = final_df[(final_df['year'] == 2012)]['dem_perc']\n",
        "\n",
        "# Testing data for year 2020\n",
        "X_test = final_df[final_df['year'] == 2016].drop(['dem_perc','rep_perc', 'year', 'COUNTY'], axis=1)\n",
        "y_test = final_df[final_df['year'] == 2016]['dem_perc']\n",
        "\n",
        "# Fit model:\n",
        "model = DecisionTreeRegressor(max_depth=3)\n",
        "tree = model.fit(X_train,y_train)\n",
        "y_hat = tree.predict(X_test) # Model predictions\n",
        "SSE = np.sum( (y_test - y_hat)**2 )\n",
        "TSS = np.sum( (y_test - np.mean(y_train) )**2 )\n",
        "rsq = 1 - SSE/TSS\n",
        "print(rsq)\n",
        "plot_tree(tree,filled=True,feature_names=tree.feature_names_in_ )\n",
        "plt.show()"
      ],
      "metadata": {
        "colab": {
          "base_uri": "https://localhost:8080/",
          "height": 424
        },
        "id": "2R92KLzt-AtL",
        "outputId": "19864009-9e67-45a3-dbe8-1d1e4ebe6710"
      },
      "execution_count": null,
      "outputs": [
        {
          "output_type": "stream",
          "name": "stdout",
          "text": [
            "0.9451743296407965\n"
          ]
        },
        {
          "output_type": "display_data",
          "data": {
            "text/plain": [
              "<Figure size 640x480 with 1 Axes>"
            ],
            "image/png": "[encoded data removed]"
          },
          "metadata": {}
        }
      ]
    },
    {
      "cell_type": "code",
      "source": [
        "dem_perc_2024 = final_df[final_df['year'] == 2020].drop(['dem_perc','rep_perc', 'year', 'COUNTY'], axis=1)\n",
        "dem_prediction_2024 = model.predict(dem_perc_2024)\n",
        "sum_dem_2024 = sum(dem_prediction_2024)\n",
        "print(sum_dem_2024)"
      ],
      "metadata": {
        "colab": {
          "base_uri": "https://localhost:8080/"
        },
        "id": "kKL4dJd7uuvO",
        "outputId": "1c9cf893-7c81-4378-ccbf-07e2e0287d9f"
      },
      "execution_count": null,
      "outputs": [
        {
          "output_type": "stream",
          "name": "stdout",
          "text": [
            "0.3185641371634049\n"
          ]
        }
      ]
    },
    {
      "cell_type": "markdown",
      "source": [
        "### Republican MODEL"
      ],
      "metadata": {
        "id": "1W4RUEs3bnNn"
      }
    },
    {
      "cell_type": "code",
      "source": [
        "from sklearn.tree import DecisionTreeRegressor, plot_tree\n",
        "from sklearn.metrics import accuracy_score\n",
        "import matplotlib.pyplot as plt\n",
        "\n",
        "# Training data for years 2012 and 2016\n",
        "X_train = final_df[(final_df['year'] == 2012)].drop(['dem_perc','rep_perc', 'year', 'COUNTY'], axis=1)\n",
        "y_train = final_df[(final_df['year'] == 2012)]['rep_perc']\n",
        "\n",
        "# Testing data for year 2020\n",
        "X_test = final_df[final_df['year'] == 2016].drop(['dem_perc','rep_perc', 'year', 'COUNTY'], axis=1)\n",
        "y_test = final_df[final_df['year'] == 2016]['rep_perc']\n",
        "\n",
        "# Fit model:\n",
        "model = DecisionTreeRegressor(max_depth=3)\n",
        "tree = model.fit(X_train,y_train)\n",
        "y_hat = tree.predict(X_test) # Model predictions\n",
        "SSE = np.sum( (y_test - y_hat)**2 )\n",
        "TSS = np.sum( (y_test - np.mean(y_train) )**2 )\n",
        "rsq = 1 - SSE/TSS\n",
        "print(rsq)\n",
        "plot_tree(tree,filled=True,feature_names=tree.feature_names_in_ )\n",
        "plt.show()"
      ],
      "metadata": {
        "colab": {
          "base_uri": "https://localhost:8080/",
          "height": 424
        },
        "id": "MGEC41MWVJ0b",
        "outputId": "dbf833ed-6458-4842-cf97-fef68cbe242b"
      },
      "execution_count": null,
      "outputs": [
        {
          "output_type": "stream",
          "name": "stdout",
          "text": [
            "0.9252298469379721\n"
          ]
        },
        {
          "output_type": "display_data",
          "data": {
            "text/plain": [
              "<Figure size 640x480 with 1 Axes>"
            ],
            "image/png": "[encoded data removed]"
          },
          "metadata": {}
        }
      ]
    },
    {
      "cell_type": "code",
      "source": [
        "rep_perc_2024 = final_df[final_df['year'] == 2020].drop(['dem_perc','rep_perc', 'year', 'COUNTY'], axis=1)\n",
        "rep_prediction_2024 = model.predict(rep_perc_2024)\n",
        "sum_rep_2024 = sum(rep_prediction_2024)\n",
        "print(sum_rep_2024)"
      ],
      "metadata": {
        "colab": {
          "base_uri": "https://localhost:8080/"
        },
        "id": "inwA5CgMaB2_",
        "outputId": "af26ec00-58fa-4b23-9ece-0a95867e7508"
      },
      "execution_count": null,
      "outputs": [
        {
          "output_type": "stream",
          "name": "stdout",
          "text": [
            "0.3432486231259171\n"
          ]
        }
      ]
    },
    {
      "cell_type": "markdown",
      "source": [
        "## Conclusion"
      ],
      "metadata": {
        "id": "_flHREELmyVB"
      }
    },
    {
      "cell_type": "markdown",
      "source": [
        "Our predictive model suggests that the 2024 Virginia elections are likely to follow similar patterns of previous elections, with Democrats securing urban and suburban counties and Republicans retaining majority in rural counties. Gerrmanying analysis indicates that these results can be flipped due to its effects. Our data is only using data from two previous elections, more data is needed to make more accurate predictions. The current 2024 election prediction results are a combination from the years 2016 and 2020. Having data from more recent years could have made this model more accurate. Future work should focus on improving the models with more accurate and detailed demographics and voter behavior could be used. This could expand the analysis to include other states to give a broader understanding of national trends.\n"
      ],
      "metadata": {
        "id": "3e8WQkGeikWQ"
      }
    }
  ]
}