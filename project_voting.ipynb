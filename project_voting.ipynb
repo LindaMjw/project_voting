{
  "nbformat": 4,
  "nbformat_minor": 0,
  "metadata": {
    "colab": {
      "provenance": [],
      "authorship_tag": "ABX9TyOBqIfpuMAFjnz4K1G50tEM",
      "include_colab_link": true
    },
    "kernelspec": {
      "name": "python3",
      "display_name": "Python 3"
    },
    "language_info": {
      "name": "python"
    }
  },
  "cells": [
    {
      "cell_type": "markdown",
      "metadata": {
        "id": "view-in-github",
        "colab_type": "text"
      },
      "source": [
        "<a href=\"https://colab.research.google.com/github/LindaMjw/project_voting/blob/main/project_voting.ipynb\" target=\"_parent\"><img src=\"https://colab.research.google.com/assets/colab-badge.svg\" alt=\"Open In Colab\"/></a>"
      ]
    },
    {
      "cell_type": "code",
      "source": [
        "! git clone -q https://github.com/LindaMjw/project_voting"
      ],
      "metadata": {
        "id": "_txpXSLfaGSS"
      },
      "execution_count": 5,
      "outputs": []
    },
    {
      "cell_type": "code",
      "source": [
        "#%%capture\n",
        "# !pip3 install mapclassify"
      ],
      "metadata": {
        "id": "-XpiZuOTeQYv"
      },
      "execution_count": 6,
      "outputs": []
    },
    {
      "cell_type": "code",
      "source": [
        "#from google.colab import drive\n",
        "# drive.mount('/content/drive')"
      ],
      "metadata": {
        "id": "lBhnu3JKajE4"
      },
      "execution_count": 7,
      "outputs": []
    },
    {
      "cell_type": "code",
      "execution_count": 8,
      "metadata": {
        "id": "hFjge2VEZwKp"
      },
      "outputs": [],
      "source": [
        "import geopandas as gpd\n",
        "# import mapclassify\n",
        "import pandas as pd\n",
        "import matplotlib\n",
        "import matplotlib.pyplot as plt\n",
        "import numpy as np\n",
        "# from mpl_toolkits.axes_grid1 import make_axes_locatable\n",
        "import seaborn as sns\n",
        "\n",
        "vdf = pd.read_csv('/content/project_voting/data/voting_VA.csv') # Load historical voting data\n",
        "#gdf = gpd.read_file('/content/drive/MyDrive/VirginiaAdministrativeBoundary_ClippedToShoreline.shp/VirginiaCounty_ClippedToShoreline.shx') # Load Virginia shapefile for maps\n",
        "# cdf = pd.read_csv('/content/project_voting/data/county_adjacencies.csv') # Load county adjacency data and population data\n"
      ]
    },
    {
      "cell_type": "markdown",
      "source": [
        "## DATA"
      ],
      "metadata": {
        "id": "Lip4ptfPRae1"
      }
    },
    {
      "cell_type": "code",
      "source": [
        "print(vdf)"
      ],
      "metadata": {
        "id": "1d5osZUg6w4r",
        "outputId": "4c4f8a98-22ca-4e8a-89bf-b61f31fe316a",
        "colab": {
          "base_uri": "https://localhost:8080/"
        }
      },
      "execution_count": 9,
      "outputs": [
        {
          "output_type": "stream",
          "name": "stdout",
          "text": [
            "      Unnamed: 0  year     state state_po      county_name  county_fips  \\\n",
            "0          11161  2000  VIRGINIA       VA         ACCOMACK        51001   \n",
            "1          11162  2000  VIRGINIA       VA         ACCOMACK        51001   \n",
            "2          11163  2000  VIRGINIA       VA         ACCOMACK        51001   \n",
            "3          11164  2000  VIRGINIA       VA         ACCOMACK        51001   \n",
            "4          11165  2000  VIRGINIA       VA        ALBEMARLE        51003   \n",
            "...          ...   ...       ...      ...              ...          ...   \n",
            "3731       71966  2020  VIRGINIA       VA  WINCHESTER CITY        51840   \n",
            "3732       71967  2020  VIRGINIA       VA  WINCHESTER CITY        51840   \n",
            "3733       71968  2020  VIRGINIA       VA  WINCHESTER CITY        51840   \n",
            "3734       71969  2020  VIRGINIA       VA  WINCHESTER CITY        51840   \n",
            "3735       71970  2020  VIRGINIA       VA  WINCHESTER CITY        51840   \n",
            "\n",
            "            office       candidate       party  candidatevotes  totalvotes  \\\n",
            "0     US PRESIDENT         AL GORE    DEMOCRAT            5092       11925   \n",
            "1     US PRESIDENT  GEORGE W. BUSH  REPUBLICAN            6352       11925   \n",
            "2     US PRESIDENT     RALPH NADER       GREEN             220       11925   \n",
            "3     US PRESIDENT           OTHER       OTHER             261       11925   \n",
            "4     US PRESIDENT         AL GORE    DEMOCRAT           16255       36846   \n",
            "...            ...             ...         ...             ...         ...   \n",
            "3731  US PRESIDENT           OTHER       OTHER              24       12113   \n",
            "3732  US PRESIDENT           OTHER       OTHER               0       12113   \n",
            "3733  US PRESIDENT  DONALD J TRUMP  REPUBLICAN            2825       12113   \n",
            "3734  US PRESIDENT  DONALD J TRUMP  REPUBLICAN            2370       12113   \n",
            "3735  US PRESIDENT  DONALD J TRUMP  REPUBLICAN              26       12113   \n",
            "\n",
            "       version          mode  \n",
            "0     20220315         TOTAL  \n",
            "1     20220315         TOTAL  \n",
            "2     20220315         TOTAL  \n",
            "3     20220315         TOTAL  \n",
            "4     20220315         TOTAL  \n",
            "...        ...           ...  \n",
            "3731  20220315  ELECTION DAY  \n",
            "3732  20220315   PROVISIONAL  \n",
            "3733  20220315      ABSENTEE  \n",
            "3734  20220315  ELECTION DAY  \n",
            "3735  20220315   PROVISIONAL  \n",
            "\n",
            "[3736 rows x 13 columns]\n"
          ]
        }
      ]
    },
    {
      "cell_type": "code",
      "source": [
        "print(vdf.describe())"
      ],
      "metadata": {
        "id": "vtV6YzmH5SHP",
        "outputId": "c332ae1c-7bfb-4263-8ab9-545870820edc",
        "colab": {
          "base_uri": "https://localhost:8080/"
        }
      },
      "execution_count": 10,
      "outputs": [
        {
          "output_type": "stream",
          "name": "stdout",
          "text": [
            "         Unnamed: 0         year   county_fips  candidatevotes     totalvotes  \\\n",
            "count   3736.000000  3736.000000   3736.000000     3736.000000    3736.000000   \n",
            "mean   47061.027837  2012.826552  51264.579229     5878.282120   29116.353587   \n",
            "std    23219.785408     7.589036    270.546458    18452.435802   58562.057257   \n",
            "min    11161.000000  2000.000000  51001.000000        0.000000       0.000000   \n",
            "25%    21235.750000  2004.000000  51069.000000       59.000000    6741.500000   \n",
            "50%    49016.500000  2016.000000  51139.000000      899.000000   11629.000000   \n",
            "75%    71036.250000  2020.000000  51550.000000     4548.250000   24520.750000   \n",
            "max    71970.000000  2020.000000  51840.000000   355133.000000  601243.000000   \n",
            "\n",
            "          version  \n",
            "count      3736.0  \n",
            "mean   20220315.0  \n",
            "std           0.0  \n",
            "min    20220315.0  \n",
            "25%    20220315.0  \n",
            "50%    20220315.0  \n",
            "75%    20220315.0  \n",
            "max    20220315.0  \n"
          ]
        }
      ]
    },
    {
      "cell_type": "markdown",
      "source": [
        "> There is no missing values in virginia voting data, nor missing values in the other two map data."
      ],
      "metadata": {
        "id": "vGN5i6wO6d0P"
      }
    },
    {
      "cell_type": "code",
      "source": [
        "# make a copy of vdf, so that the operation on vdf1 won't influence the original dataset\n",
        "vdf1 = vdf.copy()\n",
        "# group by year and party to get sum of candidates vote and total votes.\n",
        "vdf1 = vdf.groupby(['year', 'party'])[['candidatevotes', 'totalvotes']].sum().reset_index()\n",
        "\n",
        "# calculate the percentage votes\n",
        "vdf1['percentage_votes'] = vdf1['candidatevotes'] / vdf1['totalvotes']\n",
        "\n",
        "print(vdf1)"
      ],
      "metadata": {
        "id": "DUeOpWbF6nk1",
        "outputId": "eb26915b-5158-4b7f-9478-7152f7f807f7",
        "colab": {
          "base_uri": "https://localhost:8080/"
        }
      },
      "execution_count": 11,
      "outputs": [
        {
          "output_type": "stream",
          "name": "stdout",
          "text": [
            "    year        party  candidatevotes  totalvotes  percentage_votes\n",
            "0   2000     DEMOCRAT         1216422     2737915          0.444288\n",
            "1   2000        GREEN           59373     2737915          0.021685\n",
            "2   2000        OTHER           25243     2737915          0.009220\n",
            "3   2000   REPUBLICAN         1436877     2737915          0.524807\n",
            "4   2004     DEMOCRAT         1454742     3198367          0.454839\n",
            "5   2004        OTHER           26666     3198367          0.008337\n",
            "6   2004   REPUBLICAN         1716959     3198367          0.536824\n",
            "7   2008     DEMOCRAT         1959532     3723260          0.526295\n",
            "8   2008        OTHER           38723     3723260          0.010400\n",
            "9   2008   REPUBLICAN         1725005     3723260          0.463305\n",
            "10  2012     DEMOCRAT         1971820     3854489          0.511565\n",
            "11  2012        OTHER           60147     3854489          0.015604\n",
            "12  2012   REPUBLICAN         1822522     3854489          0.472831\n",
            "13  2016     DEMOCRAT         1981473     3984631          0.497279\n",
            "14  2016        OTHER          233715     3984631          0.058654\n",
            "15  2016   REPUBLICAN         1769443     3984631          0.444067\n",
            "16  2020     DEMOCRAT         2413568    13386199          0.180303\n",
            "17  2020  LIBERTARIAN           64761    13386199          0.004838\n",
            "18  2020        OTHER           21841    13386199          0.001632\n",
            "19  2020   REPUBLICAN         1962430    13386199          0.146601\n"
          ]
        }
      ]
    },
    {
      "cell_type": "markdown",
      "source": [
        "> By oberseving the numeric percentage votes value, we can predict that Libertrian and Green party won't appear on density plot since they only occur on 2000 and 2020 respectively."
      ],
      "metadata": {
        "id": "FwDRhhYjQDpC"
      }
    },
    {
      "cell_type": "code",
      "source": [
        "# Set the style of the plot\n",
        "sns.set_style(\"whitegrid\")\n",
        "# Create a kernel density plot for each party\n",
        "plt.figure(figsize=(12, 6))\n",
        "sns.kdeplot(data=vdf1, x='percentage_votes', hue='party', fill=True, warn_singular=False)\n",
        "plt.title('Distribution of Percentage Votes by Party')\n",
        "plt.show()"
      ],
      "metadata": {
        "id": "1SmCfLVACHCT",
        "outputId": "9c78e2da-74ea-4308-ad27-8b7b96d49255",
        "colab": {
          "base_uri": "https://localhost:8080/",
          "height": 564
        }
      },
      "execution_count": 12,
      "outputs": [
        {
          "output_type": "display_data",
          "data": {
            "text/plain": [
              "<Figure size 1200x600 with 1 Axes>"
            ],
            "image/png": "[encoded data removed]"
          },
          "metadata": {}
        }
      ]
    },
    {
      "cell_type": "markdown",
      "source": [
        "> This data provides insight into the distribution and variation of 'percentage_votes' for each 'party' over time. The Green Party's percentage of votes is relatively low compared to the other two parties and remains consistent over time. The percentage of votes for the Democratic Party is very close to that of the Republican Party. The higher density of Democratic votes around 0.5 suggests that the Democratic Party has won more times in Virginia in the past six elections. By checking the real election results, we can see that the Republican Party won in 2000 and 2004, while the Democratic Party emerged victorious in the remaining four elections."
      ],
      "metadata": {
        "id": "YawYX0u1SxpW"
      }
    },
    {
      "cell_type": "markdown",
      "source": [
        "## Analysis"
      ],
      "metadata": {
        "id": "WpsDya0_Rg23"
      }
    },
    {
      "cell_type": "code",
      "source": [
        "county_12 = pd.read_csv('/content/project_voting/data/county_data/0002_ds191_20125_county_E.csv')\n",
        "print(county_12.head())"
      ],
      "metadata": {
        "id": "LDcuCNDOO8q_",
        "outputId": "cbaba7f7-9d4f-4514-8598-4278449c7282",
        "colab": {
          "base_uri": "https://localhost:8080/"
        }
      },
      "execution_count": 13,
      "outputs": [
        {
          "output_type": "stream",
          "name": "stdout",
          "text": [
            "   Unnamed: 0              GISJOIN            YEAR                     STUSAB  \\\n",
            "0           1  GIS Join Match Code  Data File Year  State Postal Abbreviation   \n",
            "1           2             G0100010       2008-2012                         AL   \n",
            "2           3             G0100030       2008-2012                         AL   \n",
            "3           4             G0100050       2008-2012                         AL   \n",
            "4           5             G0100070       2008-2012                         AL   \n",
            "\n",
            "       REGIONA      DIVISIONA       STATE      STATEA          COUNTY  \\\n",
            "0  Region Code  Division Code  State Name  State Code     County Name   \n",
            "1          NaN            NaN     Alabama          01  Autauga County   \n",
            "2          NaN            NaN     Alabama          01  Baldwin County   \n",
            "3          NaN            NaN     Alabama          01  Barbour County   \n",
            "4          NaN            NaN     Alabama          01     Bibb County   \n",
            "\n",
            "       COUNTYA  ...             QXSE007 QX6E001 QX7E001   QX7E002 QX7E003  \\\n",
            "0  County Code  ...  Not in labor force   Total   Total  Occupied  Vacant   \n",
            "1          001  ...               14693   22077   22077     19934    2143   \n",
            "2          003  ...               57160  103984  103984     72751   31233   \n",
            "3          005  ...               11539   11878   11878      9423    2455   \n",
            "4          007  ...                8516    8958    8958      7386    1572   \n",
            "\n",
            "  QX8E001         QX8E002          QX8E003            QZTE001  \\\n",
            "0   Total  Owner occupied  Renter occupied  Median gross rent   \n",
            "1   19934           15488             4446                836   \n",
            "2   72751           53889            18862                874   \n",
            "3    9423            6285             3138                577   \n",
            "4    7386            5979             1407                581   \n",
            "\n",
            "                  QZ6E001  \n",
            "0  Median value (dollars)  \n",
            "1                  137900  \n",
            "2                  172900  \n",
            "3                   88700  \n",
            "4                   91600  \n",
            "\n",
            "[5 rows x 191 columns]\n"
          ]
        }
      ]
    },
    {
      "cell_type": "code",
      "source": [
        "# select county, [QU1E001]Median Household Income in the Past 12 Months(in 2012 Inflation-Adjusted Dollars)\n",
        "# Race: [QSQE002] White alone, [QSQE003] Black or African American alone\n",
        "selected_columns = [\"COUNTY\"] + [col for col in county_12.columns if col in [\"QU1E001\", \"QSQE002\", \"QSQE003\"]]\n",
        "# Select the columns from the DataFrame\n",
        "county12_sel = county_12[county_12['STATE'] == 'Virginia']\n",
        "county12_sel = county12_sel[selected_columns]\n",
        "county12_sel.insert(0, 'year', 2012)\n",
        "print(county12_sel.head())"
      ],
      "metadata": {
        "id": "zvfkLzKkUddX",
        "colab": {
          "base_uri": "https://localhost:8080/"
        },
        "outputId": "1be3cc21-7380-4587-b87c-b8df4f77bae9"
      },
      "execution_count": 14,
      "outputs": [
        {
          "output_type": "stream",
          "name": "stdout",
          "text": [
            "      year            COUNTY QSQE002 QSQE003 QU1E001\n",
            "2821  2012   Accomack County   22586    9620   40780\n",
            "2822  2012  Albemarle County   81403    9751   67797\n",
            "2823  2012  Alleghany County   15210     801   46133\n",
            "2824  2012     Amelia County    9219    3052   50596\n",
            "2825  2012    Amherst County   24630    6083   45020\n"
          ]
        }
      ]
    },
    {
      "cell_type": "code",
      "source": [
        "# Rename the remaining columns\n",
        "county12_sel.rename(columns={'QSQE002': 'white', 'QSQE003': 'black/AA', 'QU1E001': 'Median Household Income'}, inplace=True)\n",
        "# Print the DataFrame to verify changes\n",
        "print(county12_sel.head())"
      ],
      "metadata": {
        "colab": {
          "base_uri": "https://localhost:8080/"
        },
        "id": "S4oOY6-4J_QY",
        "outputId": "e264f5b5-d331-4159-b571-58d44a270ce5"
      },
      "execution_count": 15,
      "outputs": [
        {
          "output_type": "stream",
          "name": "stdout",
          "text": [
            "      year            COUNTY  white black/AA Median Household Income\n",
            "2821  2012   Accomack County  22586     9620                   40780\n",
            "2822  2012  Albemarle County  81403     9751                   67797\n",
            "2823  2012  Alleghany County  15210      801                   46133\n",
            "2824  2012     Amelia County   9219     3052                   50596\n",
            "2825  2012    Amherst County  24630     6083                   45020\n"
          ]
        }
      ]
    },
    {
      "cell_type": "code",
      "source": [
        "county_16 = pd.read_csv('/content/project_voting/data/county_data/0002_ds225_20165_county_E.csv')\n",
        "county_20 = pd.read_csv('/content/project_voting/data/county_data/0002_ds249_20205_county_E.csv')"
      ],
      "metadata": {
        "colab": {
          "base_uri": "https://localhost:8080/"
        },
        "id": "CxlcSnI7Ebgg",
        "outputId": "cf2205e8-c706-4e1c-aaaf-780d247a4476"
      },
      "execution_count": 16,
      "outputs": [
        {
          "output_type": "stream",
          "name": "stderr",
          "text": [
            "<ipython-input-16-807815cecaed>:2: DtypeWarning: Columns (4,5,7,9,10,11,12,13,14,15,16,17,18,19,20,21,22,23,24,25,26,27,28,29,30,31,32,33,34,35,36,37,40,41,42,43,44,45,46,47,48,49,50,51,52,53,54,55,56,57,58,59,60,61,62,63,64,65,66,67,68,69,70,71,72,73,74,75,76,77,78,79,80,81,82,83,84,85,86,87,88,89,90,91,92,93,94,95,96,97,98,99,100,101,102,103,104,105,106,107,108,109,110,111,112,113,114,115,116,117,118,119,120,121,122,123,124,125,126,127,128,129,130,131,132,133,134,135,136,137,138,139,140,141,142,143,144,145,146,147,148,149,150,151,152,153,154,155,156,157,158,159,160,161,162,163,164,165,166,167,168,169,170,171,172,173,174,175,176,177,178,179,180,181,182,183,184,185,186,187,188,189,190,191,192,193,194,195,196,197,198,199,200,201,202,203,204,205,206,207,208,209,210,211,212,213,214,215,216,217,218,219,220,221,222,223,224,225,226,227,228,229,230,231,232,233,234,235,236,237,238,239,240,241,242,243,244,245,246,247,248,249,250,251,252,253,254,255,256,257,258,259,260,261,262,263,264,265,266,267,268,269,270,271,272,273,274,275,276,277,278,279,280,281,282,283,284,285,286,287,288,289,290,291,292,293,294,295,296,297,298,299,300,301,302,303,304,305,306,307,308,309,310,311,312,313,314,315,316,317,318,319,320,321,322,323,324,325,326,327,328,329,330,331,332,333,334,335,336,337,338,339,340,341,342,343,344,345,346,347,348,349,350,351,352,353,354,355,356,357,358,359,360,361,362,363,364,365,366,367,368,369,370,371,372,373,374,375,376,377,378,379,380,381,382,383,384,385,386,387,388,389,390,391,392,393,394,395,396,397,398,399,400,401,402,403,404,405,406,407,408,409,410,411,412,413,414,415,416,417,418,419,420,421,422,423,424,425,426,427,428,429,430,431,432,433,434,435,436,437,438,439,440,441,442,443,444,445,446,447,448,449,450,451,452,453,454,455,456,457,458,459,460,461,462,463,464,465,466,467,468,469,470,471,472,473,474,475,476,477,478,479,480,481,482,483,484,485,486,487,488,489,490,491,492,493,494,495,496,497,498,499,500,501,502,503,504,505,506,507,508,509,510,511,512,513,514,515,516,517,518,519,520,521,522,523,524,525,526,527,528,529,530,531,532,533,534,535,536,537,538,539,540,541,542,543,544,545,546,547,548,549,550,551,552,553,554,555,556,557,558,559,560,561,562,563,564,565,566,567,568,569,570,571,572,573,574,575,576,577,578,579,580,581,582,583,584,585,586,587,588,589,590,591,592,593,594,595,596,597,598,599,600,601,602,603,604,605,606,607,608,609,610,611,612,613,614,615,616,617,618,619,620,621,622,623,624,625,626,627,628,629,630,631,632,633,634,635,636,637,638,639,640,641,642,643,644,645,646,647,648,649,650,651,652,653,654,655,656,657,658,659,660,661,662,663,664,665,666,667,668,669,670,671,672,673,674,675,676,677,678,679,680,681,682,683,684,685,686,687,688,689,690,691,692,693,694,695,696,697,698,699,700,701,702,703,704,705,706,707,708,709,710,711,712,713,714,715,716,717,718,719,720,721,722,723,724,725,726,727,728,729,730,731,732,733,734,735,736,737,738,739,740,741,742,743,744,745,746,747,748,749,750,751,752,753,754,755,756,757,758,759,760,761,762,763,764,765,766,767,768,769,770,771,772,773,774,775,776,777,778,779,780,781,782,783,784,785,786,787,788,789,790,791,792,793,794,795,796,797,798,799,800,801,802,803,804,805,806,807,808,809,811,812,813,814,815,816,817,818,819,820,821,822,823,824,825,826,827,828,829,830,831,832,833,834,835,836,837,838,839,840,841,842,843,844,845,846,847,848,849,850,851,852,853,854,855,856,857,858,859,860,861,862,863,864,865,866,867,868,869,870,871,872,873,874,875,876,877,878,879,880,881,882,883,884,885,886,887,888,889,890,891,892,893,894,895,896,897,898,899,900,901,902,903,904,905,906,907,908,909,910,911,912,913,914,915,916,917,918,919,920,921,922,923,924,925,926,927,928,929,930,931,932,933,934,935,936,937,938,939,940,941,942,943,944,945,946,947,948,949,950,951,952,953,954,955,956,957,958,959,960,961,962,963,964,965,966,967,968,969,970,971,972,973,974,975,976,977,978,979,980,981,982,983,984,985,986,987,988,989,990,991,992) have mixed types. Specify dtype option on import or set low_memory=False.\n",
            "  county_20 = pd.read_csv('/content/project_voting/data/county_data/0002_ds249_20205_county_E.csv')\n"
          ]
        }
      ]
    },
    {
      "cell_type": "code",
      "source": [
        "selected_columns = [\"COUNTY\"] + [col for col in county_16.columns if col in [\"AF49E001\", \"AF2ME002\", \"AF2ME003\"]]\n",
        "county16_sel = county_16[county_16['STATE'] == 'Virginia']\n",
        "county16_sel = county16_sel[selected_columns]\n",
        "county16_sel.rename(columns={'AF2ME002': 'white', 'AF2ME003': 'black/AA', 'AF49E001': 'Median Household Income'}, inplace=True)\n",
        "county16_sel.insert(0, 'year', 2016)\n",
        "print(county16_sel)"
      ],
      "metadata": {
        "colab": {
          "base_uri": "https://localhost:8080/"
        },
        "id": "w0PTq2ugGyyB",
        "outputId": "4ca332fa-2538-4754-95f7-abbb9746f796"
      },
      "execution_count": 17,
      "outputs": [
        {
          "output_type": "stream",
          "name": "stdout",
          "text": [
            "      year               COUNTY   white black/AA Median Household Income\n",
            "2821  2016      Accomack County   22369     9573                   38503\n",
            "2822  2016     Albemarle County   84955     9747                   70342\n",
            "2823  2016     Alleghany County   14745      829                   45538\n",
            "2824  2016        Amelia County    9389     3010                   58269\n",
            "2825  2016       Amherst County   24609     5717                   47002\n",
            "...    ...                  ...     ...      ...                     ...\n",
            "2949  2016         Suffolk city   45514    36522                   65435\n",
            "2950  2016  Virginia Beach city  304213    85906                   67719\n",
            "2951  2016      Waynesboro city   17478     2702                   45097\n",
            "2952  2016    Williamsburg city   11207     2223                   50091\n",
            "2953  2016      Winchester city   22131     2642                   46466\n",
            "\n",
            "[133 rows x 5 columns]\n"
          ]
        }
      ]
    },
    {
      "cell_type": "code",
      "source": [
        "selected_columns = [\"COUNTY\"] + [col for col in county_20.columns if col in [\"AMR8E001\", \"AMPWE002\", \"AMPWE003\"]]\n",
        "county20_sel = county_20[county_20['STATE'] == 'Virginia']\n",
        "county20_sel = county20_sel[selected_columns]\n",
        "county20_sel.rename(columns={'AMPWE002': 'white', 'AMPWE003': 'black/AA', 'AMR8E001': 'Median Household Income'}, inplace=True)\n",
        "county20_sel.insert(0, 'year', 2020)\n",
        "print(county20_sel)"
      ],
      "metadata": {
        "colab": {
          "base_uri": "https://localhost:8080/"
        },
        "id": "RVx0q-ybHEVy",
        "outputId": "de94b626-749d-4a9a-9968-df79fd9681da"
      },
      "execution_count": 18,
      "outputs": [
        {
          "output_type": "stream",
          "name": "stdout",
          "text": [
            "      year               COUNTY   white black/AA Median Household Income\n",
            "2822  2020      Accomack County   21773     9390                 46178.0\n",
            "2823  2020     Albemarle County   87871    10005                 84643.0\n",
            "2824  2020     Alleghany County   13925      790                 48513.0\n",
            "2825  2020        Amelia County    9789     2876                 63918.0\n",
            "2826  2020       Amherst County   24330     5758                 57368.0\n",
            "...    ...                  ...     ...      ...                     ...\n",
            "2950  2020         Suffolk city   46250    37869                 79899.0\n",
            "2951  2020  Virginia Beach city  293359    84851                 78136.0\n",
            "2952  2020      Waynesboro city   17890     2797                 43480.0\n",
            "2953  2020    Williamsburg city   10773     2285                 59288.0\n",
            "2954  2020      Winchester city   21617     2794                 61102.0\n",
            "\n",
            "[133 rows x 5 columns]\n"
          ]
        }
      ]
    },
    {
      "cell_type": "code",
      "source": [
        "merged_data = pd.concat([county12_sel, county16_sel, county20_sel], ignore_index=True)"
      ],
      "metadata": {
        "id": "TX-Ao8YlR09t"
      },
      "execution_count": 19,
      "outputs": []
    },
    {
      "cell_type": "code",
      "source": [
        "merged_data['COUNTY'] = merged_data['COUNTY'].str.upper()\n",
        "merged_data['COUNTY'] = merged_data['COUNTY'].apply(lambda x: x[:-12] if x.endswith(' CITY COUNTY') else (x[:-7] if x.endswith(' COUNTY') else (x[:-5] if x.endswith(' CITY') else x)))\n",
        "print(merged_data)"
      ],
      "metadata": {
        "colab": {
          "base_uri": "https://localhost:8080/"
        },
        "id": "OcoPhM1-7jqI",
        "outputId": "9823632a-61d7-424e-f44c-40a768b78130"
      },
      "execution_count": 20,
      "outputs": [
        {
          "output_type": "stream",
          "name": "stdout",
          "text": [
            "     year          COUNTY   white black/AA Median Household Income\n",
            "0    2012        ACCOMACK   22586     9620                   40780\n",
            "1    2012       ALBEMARLE   81403     9751                   67797\n",
            "2    2012       ALLEGHANY   15210      801                   46133\n",
            "3    2012          AMELIA    9219     3052                   50596\n",
            "4    2012         AMHERST   24630     6083                   45020\n",
            "..    ...             ...     ...      ...                     ...\n",
            "395  2020         SUFFOLK   46250    37869                 79899.0\n",
            "396  2020  VIRGINIA BEACH  293359    84851                 78136.0\n",
            "397  2020      WAYNESBORO   17890     2797                 43480.0\n",
            "398  2020    WILLIAMSBURG   10773     2285                 59288.0\n",
            "399  2020      WINCHESTER   21617     2794                 61102.0\n",
            "\n",
            "[400 rows x 5 columns]\n"
          ]
        }
      ]
    },
    {
      "cell_type": "code",
      "source": [
        "print(vdf['mode'].unique())"
      ],
      "metadata": {
        "colab": {
          "base_uri": "https://localhost:8080/"
        },
        "id": "Ffw8b4hoNvin",
        "outputId": "7ed2b189-71c0-4ed0-df0f-4b376102b67d"
      },
      "execution_count": 21,
      "outputs": [
        {
          "output_type": "stream",
          "name": "stdout",
          "text": [
            "['TOTAL' 'ABSENTEE' 'ELECTION DAY' 'PROVISIONAL']\n"
          ]
        }
      ]
    },
    {
      "cell_type": "code",
      "source": [
        "vdf = vdf.groupby(['county_name', 'year', 'party'])['candidatevotes'].sum().reset_index()"
      ],
      "metadata": {
        "id": "-ug5dU55N5Sl"
      },
      "execution_count": 22,
      "outputs": []
    },
    {
      "cell_type": "code",
      "source": [
        "# Find the index of the row with the maximum candidate votes for each county and year\n",
        "winning_party_index = vdf.groupby(['year', 'county_name'])['candidatevotes'].idxmax()\n",
        "\n",
        "# Extract the winning party using the index\n",
        "winning_party = vdf.loc[winning_party_index, 'party']\n",
        "\n",
        "# Create a new DataFrame with year, county name, and winning party\n",
        "wp= vdf.loc[winning_party_index, ['year', 'county_name']]\n",
        "wp['winning_party'] = winning_party.values\n",
        "wp.rename(columns={'county_name': 'COUNTY'}, inplace=True)\n",
        "wp['COUNTY'] = wp['COUNTY'].apply(lambda x: x[:-5] if x.endswith(' CITY') else x)\n",
        "print(wp)"
      ],
      "metadata": {
        "colab": {
          "base_uri": "https://localhost:8080/"
        },
        "id": "dokHA_dmJOds",
        "outputId": "3813d16d-a237-4c4f-a641-06a8b740b58b"
      },
      "execution_count": 23,
      "outputs": [
        {
          "output_type": "stream",
          "name": "stdout",
          "text": [
            "      year        COUNTY winning_party\n",
            "3     2000      ACCOMACK    REPUBLICAN\n",
            "23    2000     ALBEMARLE    REPUBLICAN\n",
            "40    2000    ALEXANDRIA      DEMOCRAT\n",
            "63    2000     ALLEGHANY    REPUBLICAN\n",
            "83    2000        AMELIA    REPUBLICAN\n",
            "...    ...           ...           ...\n",
            "2512  2020  WILLIAMSBURG      DEMOCRAT\n",
            "2532  2020    WINCHESTER      DEMOCRAT\n",
            "2555  2020          WISE    REPUBLICAN\n",
            "2575  2020         WYTHE    REPUBLICAN\n",
            "2595  2020          YORK    REPUBLICAN\n",
            "\n",
            "[778 rows x 3 columns]\n"
          ]
        }
      ]
    },
    {
      "cell_type": "code",
      "source": [
        "final_df = pd.merge(merged_data, wp, on=['year', 'COUNTY'], how='left')"
      ],
      "metadata": {
        "id": "i4gZL_ZE5vSH"
      },
      "execution_count": 24,
      "outputs": []
    },
    {
      "cell_type": "code",
      "source": [
        "duplicate_keys = wp.duplicated(subset=['year', 'COUNTY'], keep=False)\n",
        "print(\"Duplicate keys in wp:\")\n",
        "print(wp[duplicate_keys])\n",
        "# after read into the data wp and google, we fould out the following COUNTY has both COUNTY and city (ex. FAIRFAX county and FAIRFAX city)\n",
        "# it will be mroe complicated if we go back and fix the extire data for this 8 county, so we plan to excluded them."
      ],
      "metadata": {
        "colab": {
          "base_uri": "https://localhost:8080/"
        },
        "id": "prOvrQcIGfrO",
        "outputId": "84b7b789-3674-4a77-f5ca-1c6738e20d0a"
      },
      "execution_count": 25,
      "outputs": [
        {
          "output_type": "stream",
          "name": "stdout",
          "text": [
            "Duplicate keys in wp:\n",
            "      year    COUNTY winning_party\n",
            "756   2020   FAIRFAX      DEMOCRAT\n",
            "760   2020   FAIRFAX      DEMOCRAT\n",
            "863   2020  FRANKLIN    REPUBLICAN\n",
            "864   2020  FRANKLIN      DEMOCRAT\n",
            "2067  2020  RICHMOND    REPUBLICAN\n",
            "2068  2020  RICHMOND      DEMOCRAT\n",
            "2091  2020   ROANOKE    REPUBLICAN\n",
            "2092  2020   ROANOKE      DEMOCRAT\n"
          ]
        }
      ]
    },
    {
      "cell_type": "code",
      "source": [
        "# List of county names to exclude\n",
        "exclude_counties = [\"FAIRFAX\", \"FRANKLIN\", \"RICHMOND\", \"ROANOKE\"]\n",
        "\n",
        "# Filter out rows where the county column is not in the exclude_counties list\n",
        "final_df = final_df[~final_df['COUNTY'].isin(exclude_counties)]\n",
        "print(final_df)"
      ],
      "metadata": {
        "id": "GhD1O3-3KX_o",
        "outputId": "43c55ce6-f302-4322-834b-7b6417b241a7",
        "colab": {
          "base_uri": "https://localhost:8080/"
        }
      },
      "execution_count": 26,
      "outputs": [
        {
          "output_type": "stream",
          "name": "stdout",
          "text": [
            "     year          COUNTY   white black/AA Median Household Income  \\\n",
            "0    2012        ACCOMACK   22586     9620                   40780   \n",
            "1    2012       ALBEMARLE   81403     9751                   67797   \n",
            "2    2012       ALLEGHANY   15210      801                   46133   \n",
            "3    2012          AMELIA    9219     3052                   50596   \n",
            "4    2012         AMHERST   24630     6083                   45020   \n",
            "..    ...             ...     ...      ...                     ...   \n",
            "403  2020         SUFFOLK   46250    37869                 79899.0   \n",
            "404  2020  VIRGINIA BEACH  293359    84851                 78136.0   \n",
            "405  2020      WAYNESBORO   17890     2797                 43480.0   \n",
            "406  2020    WILLIAMSBURG   10773     2285                 59288.0   \n",
            "407  2020      WINCHESTER   21617     2794                 61102.0   \n",
            "\n",
            "    winning_party  \n",
            "0      REPUBLICAN  \n",
            "1        DEMOCRAT  \n",
            "2      REPUBLICAN  \n",
            "3      REPUBLICAN  \n",
            "4      REPUBLICAN  \n",
            "..            ...  \n",
            "403      DEMOCRAT  \n",
            "404      DEMOCRAT  \n",
            "405    REPUBLICAN  \n",
            "406      DEMOCRAT  \n",
            "407      DEMOCRAT  \n",
            "\n",
            "[376 rows x 6 columns]\n"
          ]
        }
      ]
    },
    {
      "cell_type": "code",
      "source": [
        "from sklearn.tree import DecisionTreeClassifier, plot_tree\n",
        "from sklearn.metrics import accuracy_score\n",
        "import matplotlib.pyplot as plt\n",
        "\n",
        "# Training data for years 2012 and 2016\n",
        "X_train = final_df[(final_df['year'] == 2012) | (final_df['year'] == 2016)].drop(['winning_party', 'year', 'COUNTY'], axis=1)\n",
        "y_train = final_df[(final_df['year'] == 2012) | (final_df['year'] == 2016)]['winning_party']\n",
        "\n",
        "# Testing data for year 2020\n",
        "X_test = final_df[final_df['year'] == 2020].drop(['winning_party', 'year', 'COUNTY'], axis=1)\n",
        "y_test = final_df[final_df['year'] == 2020]['winning_party']\n",
        "\n",
        "# Fit model\n",
        "model = DecisionTreeClassifier(max_depth=3)\n",
        "tree = model.fit(X_train, y_train)\n",
        "\n",
        "# Make predictions\n",
        "y_hat = tree.predict(X_test)\n",
        "\n",
        "# Calculate accuracy\n",
        "accuracy = accuracy_score(y_test, y_hat)\n",
        "print(\"Accuracy:\", accuracy)\n",
        "\n",
        "# Plot tree\n",
        "plot_tree(tree, filled=True, feature_names=X_train.columns)\n",
        "plt.show()"
      ],
      "metadata": {
        "colab": {
          "base_uri": "https://localhost:8080/",
          "height": 424
        },
        "id": "2R92KLzt-AtL",
        "outputId": "609337f9-7f84-4673-cd7e-8779fe2ef283"
      },
      "execution_count": 27,
      "outputs": [
        {
          "output_type": "stream",
          "name": "stdout",
          "text": [
            "Accuracy: 0.776\n"
          ]
        },
        {
          "output_type": "display_data",
          "data": {
            "text/plain": [
              "<Figure size 640x480 with 1 Axes>"
            ],
            "image/png": "[encoded data removed]"
          },
          "metadata": {}
        }
      ]
    }
  ]
}